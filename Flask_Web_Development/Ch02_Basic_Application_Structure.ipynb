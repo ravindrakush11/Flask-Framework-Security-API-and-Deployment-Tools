{
 "cells": [
  {
   "cell_type": "code",
   "execution_count": 18,
   "id": "a0825155-64ee-4985-af06-afaf992ae505",
   "metadata": {},
   "outputs": [],
   "source": [
    "from flask import Flask\n",
    "app = Flask(__name__)\n",
    "\n",
    "@app.route('/')\n",
    "def index():\n",
    "    return '<h1>Hello world!</h1>'\n",
    "\n",
    "\n",
    "app.add_url_rule('/haii', 'index', index)\n",
    "app.run()"
   ]
  },
  {
   "cell_type": "markdown",
   "id": "d6beeee6-6cc5-4cba-8c72-be231306164d",
   "metadata": {},
   "source": [
    "## Development Web Server\n",
    "### If the Client is a Web browser"
   ]
  },
  {
   "cell_type": "code",
   "execution_count": 6,
   "id": "7004ea31-424c-436d-8034-2e8420892a53",
   "metadata": {},
   "outputs": [
    {
     "name": "stdout",
     "output_type": "stream",
     "text": [
      " * Serving Flask app '__main__'\n",
      " * Debug mode: off\n"
     ]
    },
    {
     "name": "stderr",
     "output_type": "stream",
     "text": [
      "WARNING: This is a development server. Do not use it in a production deployment. Use a production WSGI server instead.\n",
      " * Running on http://127.0.0.1:5000\n",
      "Press CTRL+C to quit\n"
     ]
    }
   ],
   "source": [
    "from flask import Flask\n",
    "app = Flask(__name__)\n",
    "\n",
    "@app.route('/user/<name>')\n",
    "def user(name):\n",
    "    return '<h1>Hello, {}!</h1>'.format(name)\n",
    "\n",
    "if __name__ == '__main__':\n",
    "    app.run()"
   ]
  },
  {
   "cell_type": "markdown",
   "id": "24c08c51-2870-4984-8c9f-f7de65b43ec0",
   "metadata": {},
   "source": [
    "## Dynamic Routes"
   ]
  },
  {
   "cell_type": "code",
   "execution_count": 9,
   "id": "67f9e71d-4a06-442d-9de1-258071ea35a7",
   "metadata": {},
   "outputs": [
    {
     "name": "stdout",
     "output_type": "stream",
     "text": [
      " * Serving Flask app '__main__'\n",
      " * Debug mode: off\n"
     ]
    },
    {
     "name": "stderr",
     "output_type": "stream",
     "text": [
      "WARNING: This is a development server. Do not use it in a production deployment. Use a production WSGI server instead.\n",
      " * Running on http://127.0.0.1:5000\n",
      "Press CTRL+C to quit\n",
      "127.0.0.1 - - [29/Apr/2025 10:43:19] \"GET /user/devesh HTTP/1.1\" 200 -\n"
     ]
    }
   ],
   "source": [
    "from flask import Flask\n",
    "app = Flask(__name__)\n",
    "\n",
    "@app.route('/')\n",
    "def index():\n",
    "    return '<h1> Hello World </h1>'\n",
    "\n",
    "@app.route('/user/<name>')\n",
    "def user(name):\n",
    "    return '<h1>, Hello, {}!</h1>'.format(name)\n",
    "\n",
    "if __name__ == '__main__':\n",
    "    app.run()"
   ]
  },
  {
   "cell_type": "markdown",
   "id": "67150587-c611-4b5f-bef8-cd4f960b3f53",
   "metadata": {},
   "source": [
    "## Debug Mode"
   ]
  },
  {
   "cell_type": "code",
   "execution_count": 17,
   "id": "8d960d90-26b5-4e01-a9b4-23209c8e8cfb",
   "metadata": {},
   "outputs": [
    {
     "name": "stdout",
     "output_type": "stream",
     "text": [
      " * Serving Flask app '__main__'\n",
      " * Debug mode: off\n"
     ]
    },
    {
     "name": "stderr",
     "output_type": "stream",
     "text": [
      "WARNING: This is a development server. Do not use it in a production deployment. Use a production WSGI server instead.\n",
      " * Running on all addresses (0.0.0.0)\n",
      " * Running on http://127.0.0.1:58\n",
      " * Running on http://192.168.157.40:58\n",
      "Press CTRL+C to quit\n",
      "192.168.157.40 - - [29/Apr/2025 10:55:16] \"GET / HTTP/1.1\" 200 -\n",
      "127.0.0.1 - - [29/Apr/2025 10:55:18] \"GET / HTTP/1.1\" 200 -\n"
     ]
    }
   ],
   "source": [
    "from flask import Flask\n",
    "app = Flask(__name__)\n",
    "\n",
    "@app.route('/')\n",
    "def index():\n",
    "    return '<h1> Hello World </h1>'\n",
    "\n",
    "@app.route('/user/<name>')\n",
    "def user(name):\n",
    "    return '<h1>, Hello, {}!</h1>'.format(name)\n",
    "\n",
    "if __name__ == '__main__':\n",
    "    app.run(host = '0.0.0.0', port = '58')"
   ]
  },
  {
   "cell_type": "markdown",
   "id": "d2342c9f-381f-4c86-9097-e64d2aea9801",
   "metadata": {},
   "source": [
    "## The Request-Response Cycle\n",
    "###  Application and Request Contexts\n"
   ]
  },
  {
   "cell_type": "code",
   "execution_count": null,
   "id": "b1d026ff-2d97-460d-8ac8-4313b4114418",
   "metadata": {},
   "outputs": [],
   "source": [
    "from flask import request\n",
    "\n",
    "@app.route('/')\n",
    "def index():\n",
    "    user_agent = request.headers.get('User-Agent')\n",
    "    return '<p>Your browser is {}</p>'.format(user_agent)"
   ]
  },
  {
   "cell_type": "markdown",
   "id": "aebf4136-e925-496a-8659-188a43d566c1",
   "metadata": {},
   "source": [
    "### Request Dispatching"
   ]
  },
  {
   "cell_type": "code",
   "execution_count": 23,
   "id": "1aec4741-da67-4899-9f86-fe08097df1a2",
   "metadata": {},
   "outputs": [
    {
     "data": {
      "text/plain": [
       "Map([<Rule '/static/<filename>' (OPTIONS, HEAD, GET) -> static>,\n",
       " <Rule '/' (OPTIONS, HEAD, GET) -> index>,\n",
       " <Rule '/user/<name>' (OPTIONS, HEAD, GET) -> user>])"
      ]
     },
     "execution_count": 23,
     "metadata": {},
     "output_type": "execute_result"
    }
   ],
   "source": [
    "app.url_map\n",
    "# URL map\n",
    "# Request methods handled by the routes"
   ]
  },
  {
   "cell_type": "markdown",
   "id": "0d5ca33e-82c1-40c6-bc7a-608dd265f529",
   "metadata": {},
   "source": [
    "### Request Hooks"
   ]
  },
  {
   "cell_type": "code",
   "execution_count": null,
   "id": "4e02b8b0-d2e8-45a2-92e5-8b3a8f21fe21",
   "metadata": {},
   "outputs": [],
   "source": []
  },
  {
   "cell_type": "markdown",
   "id": "8cb3c3d7-f7d7-45ab-b42d-8baf76c921d8",
   "metadata": {},
   "source": [
    "### Responses"
   ]
  },
  {
   "cell_type": "code",
   "execution_count": null,
   "id": "b768d13f-f9c2-48fa-b111-c3893e227a17",
   "metadata": {},
   "outputs": [],
   "source": [
    "@app.route('/')\n",
    "def index():\n",
    "    return '<h1>Bad Request</h1>', 400"
   ]
  },
  {
   "cell_type": "markdown",
   "id": "daa79321-aeb6-471f-845f-972b43c08b0b",
   "metadata": {},
   "source": [
    "### make_response"
   ]
  },
  {
   "cell_type": "code",
   "execution_count": 3,
   "id": "461dd272-0f46-4da2-9a8a-5216028b4529",
   "metadata": {},
   "outputs": [
    {
     "name": "stdout",
     "output_type": "stream",
     "text": [
      " * Serving Flask app '__main__'\n",
      " * Debug mode: off\n"
     ]
    },
    {
     "name": "stderr",
     "output_type": "stream",
     "text": [
      "WARNING: This is a development server. Do not use it in a production deployment. Use a production WSGI server instead.\n",
      " * Running on http://127.0.0.1:5000\n",
      "Press CTRL+C to quit\n",
      "127.0.0.1 - - [29/Apr/2025 15:28:35] \"GET / HTTP/1.1\" 200 -\n",
      "127.0.0.1 - - [29/Apr/2025 15:28:35] \"GET /favicon.ico HTTP/1.1\" 404 -\n",
      "127.0.0.1 - - [29/Apr/2025 15:28:55] \"GET /user/devesh HTTP/1.1\" 404 -\n"
     ]
    }
   ],
   "source": [
    "# returning a response object\n",
    "from flask import make_response\n",
    "from flask import Flask\n",
    "app = Flask(__name__)\n",
    "\n",
    "@app.route('/')\n",
    "def index():\n",
    "    response = make_response('<h1>This document carries a cookie!</h1>')\n",
    "    response.set_cookie('answer', '42')\n",
    "    return response\n",
    "\n",
    "if __name__ == '__main__':\n",
    "    app.run()"
   ]
  },
  {
   "cell_type": "code",
   "execution_count": null,
   "id": "4977bab9-30b3-499c-8ae3-570afcfc7fd2",
   "metadata": {},
   "outputs": [],
   "source": []
  },
  {
   "cell_type": "markdown",
   "id": "85bddc9b-cab0-4552-a2e7-eeb752e58688",
   "metadata": {},
   "source": [
    "## Table 2-3. Flask response object\n",
    "### Redirect"
   ]
  },
  {
   "cell_type": "code",
   "execution_count": 7,
   "id": "18a266f0-867c-475d-995e-afacc1e28f81",
   "metadata": {},
   "outputs": [
    {
     "name": "stdout",
     "output_type": "stream",
     "text": [
      " * Serving Flask app '__main__'\n",
      " * Debug mode: off\n"
     ]
    },
    {
     "name": "stderr",
     "output_type": "stream",
     "text": [
      "WARNING: This is a development server. Do not use it in a production deployment. Use a production WSGI server instead.\n",
      " * Running on http://127.0.0.1:5000\n",
      "Press CTRL+C to quit\n",
      "127.0.0.1 - - [29/Apr/2025 15:34:27] \"GET / HTTP/1.1\" 404 -\n",
      "127.0.0.1 - - [29/Apr/2025 15:34:31] \"GET /hello HTTP/1.1\" 302 -\n"
     ]
    }
   ],
   "source": [
    "from flask import Flask\n",
    "app = Flask(__name__)\n",
    "\n",
    "from flask import redirect\n",
    "@app.route('/')\n",
    "def index():\n",
    "    return redirect('https://github.com/ravindrakush11')\n",
    "\n",
    "if __name__ == '__main__':\n",
    "    app.run()"
   ]
  },
  {
   "cell_type": "markdown",
   "id": "603cd6db-c5c0-49bf-ac0e-c8e036321c56",
   "metadata": {},
   "source": [
    "## abort() function\n",
    "returns status code 404, used for error handling. "
   ]
  },
  {
   "cell_type": "code",
   "execution_count": null,
   "id": "1b65b84f-b9f5-44c8-ae5b-ac0622378195",
   "metadata": {
    "collapsed": true,
    "jupyter": {
     "outputs_hidden": true
    }
   },
   "outputs": [
    {
     "name": "stdout",
     "output_type": "stream",
     "text": [
      " * Serving Flask app '__main__'\n",
      " * Debug mode: off\n"
     ]
    },
    {
     "name": "stderr",
     "output_type": "stream",
     "text": [
      "WARNING: This is a development server. Do not use it in a production deployment. Use a production WSGI server instead.\n",
      " * Running on http://127.0.0.1:5000\n",
      "Press CTRL+C to quit\n",
      "127.0.0.1 - - [29/Apr/2025 15:42:44] \"GET / HTTP/1.1\" 404 -\n",
      "127.0.0.1 - - [29/Apr/2025 15:43:03] \"GET / HTTP/1.1\" 404 -\n",
      "127.0.0.1 - - [29/Apr/2025 15:43:17] \"GET /user/ HTTP/1.1\" 404 -\n",
      "[2025-04-29 15:43:22,439] ERROR in app: Exception on /user/5 [GET]\n",
      "Traceback (most recent call last):\n",
      "  File \"C:\\Users\\ravin\\AppData\\Local\\Programs\\Python\\Python310\\lib\\site-packages\\flask\\app.py\", line 1511, in wsgi_app\n",
      "    response = self.full_dispatch_request()\n",
      "  File \"C:\\Users\\ravin\\AppData\\Local\\Programs\\Python\\Python310\\lib\\site-packages\\flask\\app.py\", line 919, in full_dispatch_request\n",
      "    rv = self.handle_user_exception(e)\n",
      "  File \"C:\\Users\\ravin\\AppData\\Local\\Programs\\Python\\Python310\\lib\\site-packages\\flask\\app.py\", line 917, in full_dispatch_request\n",
      "    rv = self.dispatch_request()\n",
      "  File \"C:\\Users\\ravin\\AppData\\Local\\Programs\\Python\\Python310\\lib\\site-packages\\flask\\app.py\", line 902, in dispatch_request\n",
      "    return self.ensure_sync(self.view_functions[rule.endpoint])(**view_args)  # type: ignore[no-any-return]\n",
      "  File \"C:\\Users\\ravin\\AppData\\Local\\Temp\\ipykernel_20528\\3977635904.py\", line 8, in get_user\n",
      "    user = load_user(id)\n",
      "NameError: name 'load_user' is not defined\n",
      "127.0.0.1 - - [29/Apr/2025 15:43:22] \"GET /user/5 HTTP/1.1\" 500 -\n",
      "[2025-04-29 15:43:37,833] ERROR in app: Exception on /user/15 [GET]\n",
      "Traceback (most recent call last):\n",
      "  File \"C:\\Users\\ravin\\AppData\\Local\\Programs\\Python\\Python310\\lib\\site-packages\\flask\\app.py\", line 1511, in wsgi_app\n",
      "    response = self.full_dispatch_request()\n",
      "  File \"C:\\Users\\ravin\\AppData\\Local\\Programs\\Python\\Python310\\lib\\site-packages\\flask\\app.py\", line 919, in full_dispatch_request\n",
      "    rv = self.handle_user_exception(e)\n",
      "  File \"C:\\Users\\ravin\\AppData\\Local\\Programs\\Python\\Python310\\lib\\site-packages\\flask\\app.py\", line 917, in full_dispatch_request\n",
      "    rv = self.dispatch_request()\n",
      "  File \"C:\\Users\\ravin\\AppData\\Local\\Programs\\Python\\Python310\\lib\\site-packages\\flask\\app.py\", line 902, in dispatch_request\n",
      "    return self.ensure_sync(self.view_functions[rule.endpoint])(**view_args)  # type: ignore[no-any-return]\n",
      "  File \"C:\\Users\\ravin\\AppData\\Local\\Temp\\ipykernel_20528\\3977635904.py\", line 8, in get_user\n",
      "    user = load_user(id)\n",
      "NameError: name 'load_user' is not defined\n",
      "127.0.0.1 - - [29/Apr/2025 15:43:37] \"GET /user/15 HTTP/1.1\" 500 -\n"
     ]
    }
   ],
   "source": [
    "from flask import Flask\n",
    "from flask import abort\n",
    "\n",
    "app = Flask(__name__)\n",
    "\n",
    "@app.route('/user/<id>')\n",
    "def get_user(id):\n",
    "    user = load_user(id)\n",
    "    if not user:\n",
    "        abort(404)\n",
    "    return '<h1>Hello, {}</h1>'.format(user.name)\n",
    "\n",
    "if __name__ == '__main__':\n",
    "    app.run()"
   ]
  },
  {
   "cell_type": "code",
   "execution_count": null,
   "id": "59920ac9-0576-4fd2-8dea-13b1c94aba12",
   "metadata": {},
   "outputs": [],
   "source": []
  },
  {
   "cell_type": "code",
   "execution_count": null,
   "id": "6de03389-9d1b-4f51-93f2-8b9a2bb278b9",
   "metadata": {},
   "outputs": [],
   "source": []
  },
  {
   "cell_type": "code",
   "execution_count": null,
   "id": "c89af49d-ff54-4248-b8f3-bf79dcb25a6d",
   "metadata": {},
   "outputs": [],
   "source": []
  }
 ],
 "metadata": {
  "kernelspec": {
   "display_name": "Python 3 (ipykernel)",
   "language": "python",
   "name": "python3"
  },
  "language_info": {
   "codemirror_mode": {
    "name": "ipython",
    "version": 3
   },
   "file_extension": ".py",
   "mimetype": "text/x-python",
   "name": "python",
   "nbconvert_exporter": "python",
   "pygments_lexer": "ipython3",
   "version": "3.10.11"
  }
 },
 "nbformat": 4,
 "nbformat_minor": 5
}
