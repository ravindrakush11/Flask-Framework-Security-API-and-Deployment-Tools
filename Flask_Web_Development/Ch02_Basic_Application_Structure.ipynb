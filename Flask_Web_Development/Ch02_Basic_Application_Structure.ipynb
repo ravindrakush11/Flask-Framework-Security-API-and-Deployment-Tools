{
 "cells": [
  {
   "cell_type": "code",
   "execution_count": 18,
   "id": "a0825155-64ee-4985-af06-afaf992ae505",
   "metadata": {},
   "outputs": [],
   "source": [
    "# from flask import Flask\n",
    "# app = Flask(__name__)\n",
    "\n",
    "# @app.route('/')\n",
    "# def index():\n",
    "#     return '<h1>Hello world!</h1>'\n",
    "\n",
    "\n",
    "# app.add_url_rule('/haii', 'index', index)\n",
    "# app.run()"
   ]
  },
  {
   "cell_type": "markdown",
   "id": "d6beeee6-6cc5-4cba-8c72-be231306164d",
   "metadata": {},
   "source": [
    "## Development Web Server\n",
    "### If the Client is a Web browser"
   ]
  },
  {
   "cell_type": "code",
   "execution_count": 6,
   "id": "7004ea31-424c-436d-8034-2e8420892a53",
   "metadata": {},
   "outputs": [
    {
     "name": "stdout",
     "output_type": "stream",
     "text": [
      " * Serving Flask app '__main__'\n",
      " * Debug mode: off\n"
     ]
    },
    {
     "name": "stderr",
     "output_type": "stream",
     "text": [
      "WARNING: This is a development server. Do not use it in a production deployment. Use a production WSGI server instead.\n",
      " * Running on http://127.0.0.1:5000\n",
      "Press CTRL+C to quit\n"
     ]
    }
   ],
   "source": [
    "from flask import Flask\n",
    "app = Flask(__name__)\n",
    "\n",
    "@app.route('/user/<name>')\n",
    "def user(name):\n",
    "    return '<h1>Hello, {}!</h1>'.format(name)\n",
    "\n",
    "if __name__ == '__main__':\n",
    "    app.run()"
   ]
  },
  {
   "cell_type": "markdown",
   "id": "24c08c51-2870-4984-8c9f-f7de65b43ec0",
   "metadata": {},
   "source": [
    "## Dynamic Routes"
   ]
  },
  {
   "cell_type": "code",
   "execution_count": 9,
   "id": "67f9e71d-4a06-442d-9de1-258071ea35a7",
   "metadata": {},
   "outputs": [
    {
     "name": "stdout",
     "output_type": "stream",
     "text": [
      " * Serving Flask app '__main__'\n",
      " * Debug mode: off\n"
     ]
    },
    {
     "name": "stderr",
     "output_type": "stream",
     "text": [
      "WARNING: This is a development server. Do not use it in a production deployment. Use a production WSGI server instead.\n",
      " * Running on http://127.0.0.1:5000\n",
      "Press CTRL+C to quit\n",
      "127.0.0.1 - - [29/Apr/2025 10:43:19] \"GET /user/devesh HTTP/1.1\" 200 -\n"
     ]
    }
   ],
   "source": [
    "from flask import Flask\n",
    "app = Flask(__name__)\n",
    "\n",
    "@app.route('/')\n",
    "def index():\n",
    "    return '<h1> Hello World </h1>'\n",
    "\n",
    "@app.route('/user/<name>')\n",
    "def user(name):\n",
    "    return '<h1>, Hello, {}!</h1>'.format(name)\n",
    "\n",
    "if __name__ == '__main__':\n",
    "    app.run()"
   ]
  },
  {
   "cell_type": "markdown",
   "id": "67150587-c611-4b5f-bef8-cd4f960b3f53",
   "metadata": {},
   "source": [
    "## Debug Mode"
   ]
  },
  {
   "cell_type": "code",
   "execution_count": 17,
   "id": "8d960d90-26b5-4e01-a9b4-23209c8e8cfb",
   "metadata": {},
   "outputs": [
    {
     "name": "stdout",
     "output_type": "stream",
     "text": [
      " * Serving Flask app '__main__'\n",
      " * Debug mode: off\n"
     ]
    },
    {
     "name": "stderr",
     "output_type": "stream",
     "text": [
      "WARNING: This is a development server. Do not use it in a production deployment. Use a production WSGI server instead.\n",
      " * Running on all addresses (0.0.0.0)\n",
      " * Running on http://127.0.0.1:58\n",
      " * Running on http://192.168.157.40:58\n",
      "Press CTRL+C to quit\n",
      "192.168.157.40 - - [29/Apr/2025 10:55:16] \"GET / HTTP/1.1\" 200 -\n",
      "127.0.0.1 - - [29/Apr/2025 10:55:18] \"GET / HTTP/1.1\" 200 -\n"
     ]
    }
   ],
   "source": [
    "from flask import Flask\n",
    "app = Flask(__name__)\n",
    "\n",
    "@app.route('/')\n",
    "def index():\n",
    "    return '<h1> Hello World </h1>'\n",
    "\n",
    "@app.route('/user/<name>')\n",
    "def user(name):\n",
    "    return '<h1>, Hello, {}!</h1>'.format(name)\n",
    "\n",
    "if __name__ == '__main__':\n",
    "    app.run(host = '0.0.0.0', port = '58')"
   ]
  },
  {
   "cell_type": "markdown",
   "id": "d2342c9f-381f-4c86-9097-e64d2aea9801",
   "metadata": {},
   "source": [
    "## The Request-Response Cycle\n",
    "###  Application and Request Contexts\n"
   ]
  },
  {
   "cell_type": "code",
   "execution_count": null,
   "id": "b1d026ff-2d97-460d-8ac8-4313b4114418",
   "metadata": {},
   "outputs": [],
   "source": [
    "from flask import request\n",
    "\n",
    "@app.route('/')\n",
    "def index():\n",
    "    user_agent = request.headers.get('User-Agent')\n",
    "    return '<p>Your browser is {}</p>'.format(user_agent)"
   ]
  },
  {
   "cell_type": "markdown",
   "id": "aebf4136-e925-496a-8659-188a43d566c1",
   "metadata": {},
   "source": [
    "### Request Dispatching"
   ]
  },
  {
   "cell_type": "code",
   "execution_count": 23,
   "id": "1aec4741-da67-4899-9f86-fe08097df1a2",
   "metadata": {},
   "outputs": [
    {
     "data": {
      "text/plain": [
       "Map([<Rule '/static/<filename>' (OPTIONS, HEAD, GET) -> static>,\n",
       " <Rule '/' (OPTIONS, HEAD, GET) -> index>,\n",
       " <Rule '/user/<name>' (OPTIONS, HEAD, GET) -> user>])"
      ]
     },
     "execution_count": 23,
     "metadata": {},
     "output_type": "execute_result"
    }
   ],
   "source": [
    "app.url_map\n",
    "# URL map\n",
    "# Request methods handled by the routes"
   ]
  },
  {
   "cell_type": "markdown",
   "id": "0d5ca33e-82c1-40c6-bc7a-608dd265f529",
   "metadata": {},
   "source": [
    "### Request Hooks"
   ]
  },
  {
   "cell_type": "code",
   "execution_count": null,
   "id": "4e02b8b0-d2e8-45a2-92e5-8b3a8f21fe21",
   "metadata": {},
   "outputs": [],
   "source": []
  },
  {
   "cell_type": "markdown",
   "id": "8cb3c3d7-f7d7-45ab-b42d-8baf76c921d8",
   "metadata": {},
   "source": [
    "### Responses"
   ]
  },
  {
   "cell_type": "code",
   "execution_count": 24,
   "id": "1ce1d64c-a0d8-4854-a3dd-7a61b59efd2b",
   "metadata": {
    "collapsed": true,
    "jupyter": {
     "outputs_hidden": true
    }
   },
   "outputs": [
    {
     "ename": "AssertionError",
     "evalue": "View function mapping is overwriting an existing endpoint function: index",
     "output_type": "error",
     "traceback": [
      "\u001b[1;31m---------------------------------------------------------------------------\u001b[0m",
      "\u001b[1;31mAssertionError\u001b[0m                            Traceback (most recent call last)",
      "Cell \u001b[1;32mIn[24], line 2\u001b[0m\n\u001b[0;32m      1\u001b[0m \u001b[38;5;129;43m@app\u001b[39;49m\u001b[38;5;241;43m.\u001b[39;49m\u001b[43mroute\u001b[49m\u001b[43m(\u001b[49m\u001b[38;5;124;43m'\u001b[39;49m\u001b[38;5;124;43m/\u001b[39;49m\u001b[38;5;124;43m'\u001b[39;49m\u001b[43m)\u001b[49m\n\u001b[1;32m----> 2\u001b[0m \u001b[38;5;28;43;01mdef\u001b[39;49;00m\u001b[38;5;250;43m \u001b[39;49m\u001b[38;5;21;43mindex\u001b[39;49m\u001b[43m(\u001b[49m\u001b[43m)\u001b[49m\u001b[43m:\u001b[49m\n\u001b[0;32m      3\u001b[0m \u001b[43m    \u001b[49m\u001b[38;5;28;43;01mreturn\u001b[39;49;00m\u001b[43m \u001b[49m\u001b[38;5;124;43m'\u001b[39;49m\u001b[38;5;124;43m<h1>Bad Request</h1>\u001b[39;49m\u001b[38;5;124;43m'\u001b[39;49m\u001b[43m,\u001b[49m\u001b[43m \u001b[49m\u001b[38;5;241;43m400\u001b[39;49m\n",
      "File \u001b[1;32m~\\AppData\\Local\\Programs\\Python\\Python310\\lib\\site-packages\\flask\\sansio\\scaffold.py:362\u001b[0m, in \u001b[0;36mScaffold.route.<locals>.decorator\u001b[1;34m(f)\u001b[0m\n\u001b[0;32m    360\u001b[0m \u001b[38;5;28;01mdef\u001b[39;00m\u001b[38;5;250m \u001b[39m\u001b[38;5;21mdecorator\u001b[39m(f: T_route) \u001b[38;5;241m-\u001b[39m\u001b[38;5;241m>\u001b[39m T_route:\n\u001b[0;32m    361\u001b[0m     endpoint \u001b[38;5;241m=\u001b[39m options\u001b[38;5;241m.\u001b[39mpop(\u001b[38;5;124m\"\u001b[39m\u001b[38;5;124mendpoint\u001b[39m\u001b[38;5;124m\"\u001b[39m, \u001b[38;5;28;01mNone\u001b[39;00m)\n\u001b[1;32m--> 362\u001b[0m     \u001b[38;5;28mself\u001b[39m\u001b[38;5;241m.\u001b[39madd_url_rule(rule, endpoint, f, \u001b[38;5;241m*\u001b[39m\u001b[38;5;241m*\u001b[39moptions)\n\u001b[0;32m    363\u001b[0m     \u001b[38;5;28;01mreturn\u001b[39;00m f\n",
      "File \u001b[1;32m~\\AppData\\Local\\Programs\\Python\\Python310\\lib\\site-packages\\flask\\sansio\\scaffold.py:47\u001b[0m, in \u001b[0;36msetupmethod.<locals>.wrapper_func\u001b[1;34m(self, *args, **kwargs)\u001b[0m\n\u001b[0;32m     45\u001b[0m \u001b[38;5;28;01mdef\u001b[39;00m\u001b[38;5;250m \u001b[39m\u001b[38;5;21mwrapper_func\u001b[39m(\u001b[38;5;28mself\u001b[39m: Scaffold, \u001b[38;5;241m*\u001b[39margs: t\u001b[38;5;241m.\u001b[39mAny, \u001b[38;5;241m*\u001b[39m\u001b[38;5;241m*\u001b[39mkwargs: t\u001b[38;5;241m.\u001b[39mAny) \u001b[38;5;241m-\u001b[39m\u001b[38;5;241m>\u001b[39m t\u001b[38;5;241m.\u001b[39mAny:\n\u001b[0;32m     46\u001b[0m     \u001b[38;5;28mself\u001b[39m\u001b[38;5;241m.\u001b[39m_check_setup_finished(f_name)\n\u001b[1;32m---> 47\u001b[0m     \u001b[38;5;28;01mreturn\u001b[39;00m f(\u001b[38;5;28mself\u001b[39m, \u001b[38;5;241m*\u001b[39margs, \u001b[38;5;241m*\u001b[39m\u001b[38;5;241m*\u001b[39mkwargs)\n",
      "File \u001b[1;32m~\\AppData\\Local\\Programs\\Python\\Python310\\lib\\site-packages\\flask\\sansio\\app.py:657\u001b[0m, in \u001b[0;36mApp.add_url_rule\u001b[1;34m(self, rule, endpoint, view_func, provide_automatic_options, **options)\u001b[0m\n\u001b[0;32m    655\u001b[0m old_func \u001b[38;5;241m=\u001b[39m \u001b[38;5;28mself\u001b[39m\u001b[38;5;241m.\u001b[39mview_functions\u001b[38;5;241m.\u001b[39mget(endpoint)\n\u001b[0;32m    656\u001b[0m \u001b[38;5;28;01mif\u001b[39;00m old_func \u001b[38;5;129;01mis\u001b[39;00m \u001b[38;5;129;01mnot\u001b[39;00m \u001b[38;5;28;01mNone\u001b[39;00m \u001b[38;5;129;01mand\u001b[39;00m old_func \u001b[38;5;241m!=\u001b[39m view_func:\n\u001b[1;32m--> 657\u001b[0m     \u001b[38;5;28;01mraise\u001b[39;00m \u001b[38;5;167;01mAssertionError\u001b[39;00m(\n\u001b[0;32m    658\u001b[0m         \u001b[38;5;124m\"\u001b[39m\u001b[38;5;124mView function mapping is overwriting an existing\u001b[39m\u001b[38;5;124m\"\u001b[39m\n\u001b[0;32m    659\u001b[0m         \u001b[38;5;124mf\u001b[39m\u001b[38;5;124m\"\u001b[39m\u001b[38;5;124m endpoint function: \u001b[39m\u001b[38;5;132;01m{\u001b[39;00mendpoint\u001b[38;5;132;01m}\u001b[39;00m\u001b[38;5;124m\"\u001b[39m\n\u001b[0;32m    660\u001b[0m     )\n\u001b[0;32m    661\u001b[0m \u001b[38;5;28mself\u001b[39m\u001b[38;5;241m.\u001b[39mview_functions[endpoint] \u001b[38;5;241m=\u001b[39m view_func\n",
      "\u001b[1;31mAssertionError\u001b[0m: View function mapping is overwriting an existing endpoint function: index"
     ]
    }
   ],
   "source": [
    "@app.route('/')\n",
    "def index():\n",
    "    return '<h1>Bad Request</h1>', 400"
   ]
  },
  {
   "cell_type": "code",
   "execution_count": null,
   "id": "461dd272-0f46-4da2-9a8a-5216028b4529",
   "metadata": {},
   "outputs": [],
   "source": [
    "# returning a response object\n",
    "from flask import make_response\n",
    "\n",
    "@app.route('/')\n",
    "def index():\n",
    "    response = make_response('<h1>This document carries a cookie!</h1>')\n",
    "    response.set_cookie('answer', '42')\n",
    "    return response"
   ]
  },
  {
   "cell_type": "markdown",
   "id": "85bddc9b-cab0-4552-a2e7-eeb752e58688",
   "metadata": {},
   "source": [
    "## Table 2-3. Flask response object\n"
   ]
  },
  {
   "cell_type": "code",
   "execution_count": null,
   "id": "18a266f0-867c-475d-995e-afacc1e28f81",
   "metadata": {},
   "outputs": [],
   "source": []
  },
  {
   "cell_type": "code",
   "execution_count": null,
   "id": "c89af49d-ff54-4248-b8f3-bf79dcb25a6d",
   "metadata": {},
   "outputs": [],
   "source": []
  }
 ],
 "metadata": {
  "kernelspec": {
   "display_name": "Python 3 (ipykernel)",
   "language": "python",
   "name": "python3"
  },
  "language_info": {
   "codemirror_mode": {
    "name": "ipython",
    "version": 3
   },
   "file_extension": ".py",
   "mimetype": "text/x-python",
   "name": "python",
   "nbconvert_exporter": "python",
   "pygments_lexer": "ipython3",
   "version": "3.10.11"
  }
 },
 "nbformat": 4,
 "nbformat_minor": 5
}
